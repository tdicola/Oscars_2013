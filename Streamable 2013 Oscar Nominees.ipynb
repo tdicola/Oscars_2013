{
 "metadata": {
  "name": ""
 },
 "nbformat": 3,
 "nbformat_minor": 0,
 "worksheets": [
  {
   "cells": [
    {
     "cell_type": "markdown",
     "metadata": {},
     "source": [
      "# Streamable 2013 Oscar Nominated Movies\n",
      "\n",
      "Generate a list of [2013 Oscar nominated movies](http://oscar.go.com/nominees) which are available to stream online from various streaming services such as Netflix, Amazon Instant Video, etc.  You can **[jump immediately to the results](#Display-Results)** or continue reading this [IPython](http://ipython.org) notebook to see the code which generated the list.  Grab the notebook file from the [github repository](https://github.com/tdicola/Oscars_2013) if you want to change or extend it.\n",
      "\n",
      "Created by Tony DiCola (tony@tonydicola.com), released under an [MIT license](http://opensource.org/licenses/MIT).\n",
      "\n",
      "### Dependencies\n",
      "\n",
      "To run the code in this notebook you will need the following python libraries installed ([pip](http://www.pip-installer.org/en/latest/) is by far the easiest method of installing them):\n",
      "\n",
      "* [BeautifulSoup](http://www.crummy.com/software/BeautifulSoup/)\n",
      "* [requests](http://docs.python-requests.org/en/latest/)\n",
      "* [python-amazon-product-api](http://python-amazon-product-api.readthedocs.org/en/latest/)\n",
      "    * Make sure to [setup your Amazon credentials](http://python-amazon-product-api.readthedocs.org/en/latest/basic-usage.html) to use this library before running the notebook.\n",
      "    \n",
      "### Wall of Shame\n",
      "\n",
      "These services are difficult or impossible to include in the results because they don't offer a public API (as far as I can tell) to search for their content:\n",
      "\n",
      "* Netflix (I can still search through a third party site, but not directly from Netflix--crazy)\n",
      "* Hulu (sorry, an undocumented 'secret' API doesn't count)\n",
      "* Redbox (there is a nicely documented API, but access isn't public)\n",
      "* Vudu\n",
      "* Google Play Store\n",
      "* Xbox Video\n",
      "* Crackle\n",
      "* Snagfilms\n",
      "* Epix\n",
      "* HitBliss\n",
      "* Blockbuster On Demand\n",
      "* Xfinity Streampix\n",
      "\n"
     ]
    },
    {
     "cell_type": "heading",
     "level": 3,
     "metadata": {},
     "source": [
      "Configuration"
     ]
    },
    {
     "cell_type": "code",
     "collapsed": false,
     "input": [
      "# Define global configuration used by the scripts in the notebook.\n",
      "\n",
      "# URL which contains the web page of nominated movies.\n",
      "NOMINEE_URL = 'http://oscar.go.com/nominees'\n",
      "\n",
      "# Filename to store downloaded web page.\n",
      "NOMINEE_PAGE = 'nominees.html'\n",
      "\n",
      "# Filename to store JSON nominee data scraped from the web page.\n",
      "NOMINEE_JSON = 'nominees.json'\n",
      "\n",
      "# Filename to store full movie data (nominees + links to videos).\n",
      "MOVIE_JSON = 'oscars2013.json'\n",
      "\n",
      "# Amazon BrowseNode value for streaming movies.  Don't change this unless \n",
      "# you know what you're doing.  I found this magic value from: \n",
      "#  https://forums.aws.amazon.com/thread.jspa?threadID=91368\n",
      "AMAZON_BROWSENODE = 2858778011"
     ],
     "language": "python",
     "metadata": {},
     "outputs": [],
     "prompt_number": 1
    },
    {
     "cell_type": "heading",
     "level": 3,
     "metadata": {},
     "source": [
      "Grab Oscar Nominated Movies Web Page"
     ]
    },
    {
     "cell_type": "code",
     "collapsed": false,
     "input": [
      "# Use the requests library to download the web page with oscar nominations\n",
      "# and save it to a file locally.  Later processing can read this file from\n",
      "# disk instead of continually downloading the data.\n",
      "\n",
      "import requests\n",
      "\n",
      "response = requests.get(NOMINEE_URL)\n",
      "# Throw an exception if there was not a successful (200 level) response.\n",
      "response.raise_for_status()\n",
      "# Save the response data to the file.\n",
      "with open(NOMINEE_PAGE, 'w') as nominee_file:\n",
      "    for chunk in response.iter_content():\n",
      "        nominee_file.write(chunk)"
     ],
     "language": "python",
     "metadata": {},
     "outputs": [],
     "prompt_number": 2
    },
    {
     "cell_type": "heading",
     "level": 3,
     "metadata": {},
     "source": [
      "Scrape Movies From Page"
     ]
    },
    {
     "cell_type": "code",
     "collapsed": false,
     "input": [
      "# Use beautifulsoup library to screen scrape the movie list from the web page.\n",
      "# There are two views of the data on the page, one view is a list by category\n",
      "# (which is the default view on page load) and another view is a list by\n",
      "# movie name.  The list by movie name has better semantic markup and is easier\n",
      "# to parse, so it will be used for the scraping.  Results will be stored as JSON \n",
      "# data so they can easily be persisted and used in later tasks.\n",
      "\n",
      "import json\n",
      "from bs4 import BeautifulSoup\n",
      "\n",
      "# Load and parse the web page file.\n",
      "nominees = []\n",
      "with open(NOMINEE_PAGE, 'r') as nominee_file:\n",
      "    soup = BeautifulSoup(nominee_file)\n",
      "    # Process each letter of films in the nominee by film list\n",
      "    for page in soup.find('div', class_='nominee-by-film').find_all('ul', class_='filmRow'):\n",
      "        # Scrape the title and list of nominations for each movie.\n",
      "        for movie in page.find_all('li', class_='film'):\n",
      "            description = movie.find('div', class_='filmDescription')\n",
      "            info = description.find('div', class_='info')\n",
      "            title = info.find('span', class_='title').string\n",
      "            nominations = [n.string for n in description.find('ul', class_='nominations').find_all('li')]\n",
      "            nominees.append({'title': title, 'nominations': nominations})\n",
      "\n",
      "# Save the results to a file as JSON data for later processing.\n",
      "with open(NOMINEE_JSON, 'w') as nominee_json:\n",
      "    json.dump(nominees, nominee_json)\n",
      "\n",
      "print 'Total movies nominated:', len(nominees)\n",
      "    "
     ],
     "language": "python",
     "metadata": {},
     "outputs": [
      {
       "output_type": "stream",
       "stream": "stdout",
       "text": [
        "Total movies nominated: 58\n"
       ]
      }
     ],
     "prompt_number": 3
    },
    {
     "cell_type": "markdown",
     "metadata": {},
     "source": [
      "### Define Custom Movie Service Queries\n",
      "\n",
      "First define a simple abstract movie service query which will support easily extending the services which are queried.  Inherit from this class and fill in a few functions to add support for any movie service."
     ]
    },
    {
     "cell_type": "code",
     "collapsed": false,
     "input": [
      "class MovieServiceQuery(object):\n",
      "    \"\"\"Base class for writing a movie service query.  You must provide an\n",
      "    implementation of search_movies and service_name if you extend this class.\n",
      "    \"\"\"\n",
      "\n",
      "    def find_movie(self, title, years=(2012, 2013)):\n",
      "        \"\"\"Return the URL for a movie if it is available to view on this\n",
      "        service, or None if not available.\n",
      "        \"\"\"\n",
      "        # Grab results from searching the movie service.\n",
      "        results = self.search_movies(title)\n",
      "        # Filter to case insensitive exact title matches that fall within \n",
      "        # the inclusive year bounds.\n",
      "        results = filter(lambda m: m.get('title').lower() == title.lower() \\\n",
      "                                   and m.get('year') >= years[0] \\\n",
      "                                   and m.get('year') <= years[1],\n",
      "                         results)\n",
      "        if len(results) > 0:\n",
      "            return results[0].get('url')\n",
      "        return None\n",
      "    \n",
      "    def search_movies(self, title):\n",
      "        \"\"\"Return a list of search results for the specified title.  Each item \n",
      "        in the results should be a dictionary with at least 'title', 'year', and \n",
      "        'url' entries.  Results should be ordered in most relevant to least \n",
      "        relevant result order.\n",
      "        \"\"\"\n",
      "        raise NotImplemented\n",
      "    \n",
      "    def service_name(self):\n",
      "        \"\"\"Return a descriptive name for the movie service.\"\"\"\n",
      "        raise NotImplemented    "
     ],
     "language": "python",
     "metadata": {},
     "outputs": [],
     "prompt_number": 5
    },
    {
     "cell_type": "markdown",
     "metadata": {},
     "source": [
      "Now define some concrete movie service query implementations.\n",
      "\n",
      "#### Netflix (Instantwatcher.com) Query"
     ]
    },
    {
     "cell_type": "code",
     "collapsed": false,
     "input": [
      "# Query instantwatcher.com for films because Netflix shut off access\n",
      "# to their APIs for new applications (not cool, Netflix).\n",
      "\n",
      "from bs4 import BeautifulSoup\n",
      "\n",
      "class InstantwatcherQuery(MovieServiceQuery):\n",
      "    def service_name(self):\n",
      "        return 'Netflix (instantwatcher.com)'\n",
      "    \n",
      "    def search_movies(self, title):\n",
      "        # Search on instantwatcher.com and parse a page of results.\n",
      "        response = requests.get('http://instantwatcher.com/titles', \n",
      "                                params={'q': title, \n",
      "                                        'view': 'minimal',\n",
      "                                        'popups': '0',\n",
      "                                        'infinite': '0' })\n",
      "        response.raise_for_status()\n",
      "        soup = BeautifulSoup(response.text)\n",
      "        title_listing = soup.find('ul', id='title-listing')\n",
      "        return [self._parse_result(li) for li in title_listing.find_all('li')]\n",
      "        \n",
      "    def _parse_result(self, li):\n",
      "        title_link = li.find('a', class_='title-list-item-link')\n",
      "        return {'title': title_link.string, \n",
      "                 'year': int(li.find('span', class_='releaseYear').string), \n",
      "                  'url': 'http://www.instantwatcher.com' + title_link['href']}            "
     ],
     "language": "python",
     "metadata": {},
     "outputs": [],
     "prompt_number": 6
    },
    {
     "cell_type": "code",
     "collapsed": false,
     "input": [
      "# Quick test of the instantwatcher query.\n",
      "query = InstantwatcherQuery()\n",
      "assert query.find_movie('the square') is not None\n",
      "assert query.find_movie('this movie does not exist') is None"
     ],
     "language": "python",
     "metadata": {},
     "outputs": [],
     "prompt_number": 7
    },
    {
     "cell_type": "heading",
     "level": 4,
     "metadata": {},
     "source": [
      "Amazon Instant Video Query"
     ]
    },
    {
     "cell_type": "code",
     "collapsed": false,
     "input": [
      "# Use the Amazon products API, as exposed by the amazonproduct python\n",
      "# library, to search for Amazon instant video titles.\n",
      "\n",
      "# Unfortunately I've noticed a lot of false positives when searching\n",
      "# for stuff on Amazon--for example the 1950's version of Lone Ranger \n",
      "# comes up as a movie released in 2012/2013 for some reason.\n",
      "\n",
      "import amazonproduct\n",
      "\n",
      "class AmazonInstantVideoQuery(MovieServiceQuery):\n",
      "    def __init__(self):\n",
      "        self.api = amazonproduct.API(locale='us')\n",
      "\n",
      "    def service_name(self):\n",
      "        return 'Amazon Instant Video'\n",
      "    \n",
      "    def search_movies(self, title):\n",
      "        try:\n",
      "            # Query Amazon and filter to results which are movies (not \n",
      "            # TV shows), and have a release date available.\n",
      "            return [self._parse_result(i) \\\n",
      "                    for i in self.api.item_search('Video', \n",
      "                                                  BrowseNode=AMAZON_BROWSENODE, \n",
      "                                                  Title=title,\n",
      "                                                  ResponseGroup='Large') \\\n",
      "                    if i.ItemAttributes.ProductGroup == 'Movie' \\\n",
      "                       and hasattr(i.ItemAttributes, 'ReleaseDate')]\n",
      "        except amazonproduct.NoExactMatchesFound:\n",
      "            return []\n",
      "        \n",
      "    def _parse_result(self, result):\n",
      "        return {'title': str(result.ItemAttributes.Title),\n",
      "                 'year': int(str(result.ItemAttributes.ReleaseDate)[0:4]),\n",
      "                  'url': str(result.DetailPageURL)}"
     ],
     "language": "python",
     "metadata": {},
     "outputs": [],
     "prompt_number": 8
    },
    {
     "cell_type": "code",
     "collapsed": false,
     "input": [
      "# Quick test\n",
      "query = AmazonInstantVideoQuery()\n",
      "assert query.find_movie('cutie and the boxer') is not None\n",
      "assert query.find_movie('this movie does not exist') is None"
     ],
     "language": "python",
     "metadata": {},
     "outputs": [],
     "prompt_number": 9
    },
    {
     "cell_type": "heading",
     "level": 4,
     "metadata": {},
     "source": [
      "iTunes Video Query"
     ]
    },
    {
     "cell_type": "code",
     "collapsed": false,
     "input": [
      "# This is based off the simple JSON API provided by Apple here:\n",
      "#   http://www.apple.com/itunes/affiliates/resources/documentation/itunes-store-web-service-search-api.html\n",
      "\n",
      "# Kudos to Apple for having by far the most easy to use and well documented \n",
      "# API of any video provider I've seen.\n",
      "\n",
      "class ItunesVideoQuery(MovieServiceQuery):\n",
      "    def service_name(self):\n",
      "        return 'iTunes'\n",
      "\n",
      "    def search_movies(self, title):\n",
      "        response = requests.get('http://itunes.apple.com/search',\n",
      "                                params={'term': title,\n",
      "                                        'media': 'movie'}).json()\n",
      "        if response['resultCount'] == 0:\n",
      "            return []\n",
      "        # Filter out pre-order items by only getting movies with a price.\n",
      "        return [self._parse_result(i) for i in response['results'] if 'trackPrice' in i]\n",
      "    \n",
      "    def _parse_result(self, result):\n",
      "        return {'title': result['trackName'],\n",
      "                 'year': int(result['releaseDate'][0:4]),\n",
      "                  'url': result['trackViewUrl']}\n",
      "        "
     ],
     "language": "python",
     "metadata": {},
     "outputs": [],
     "prompt_number": 10
    },
    {
     "cell_type": "code",
     "collapsed": false,
     "input": [
      "# Quick test\n",
      "query = ItunesVideoQuery()\n",
      "assert query.find_movie('the hunt') is not None\n",
      "assert query.find_movie('this movie does not exist') is None"
     ],
     "language": "python",
     "metadata": {},
     "outputs": [],
     "prompt_number": 11
    },
    {
     "cell_type": "markdown",
     "metadata": {},
     "source": [
      "### Define List of Services To Query\n",
      "\n",
      "Specify which concrete movie service queries are available.  If you add more query implementations, make sure to add them to the list below."
     ]
    },
    {
     "cell_type": "code",
     "collapsed": false,
     "input": [
      "SERVICES = [InstantwatcherQuery(), \n",
      "            AmazonInstantVideoQuery(),\n",
      "            ItunesVideoQuery()]"
     ],
     "language": "python",
     "metadata": {},
     "outputs": [],
     "prompt_number": 12
    },
    {
     "cell_type": "heading",
     "level": 3,
     "metadata": {},
     "source": [
      "Query Movie Services"
     ]
    },
    {
     "cell_type": "code",
     "collapsed": false,
     "input": [
      "import json\n",
      "import time\n",
      "import threading\n",
      "\n",
      "# Define a function to query a service for all the nominated movies and update \n",
      "# the nominee with the URL of the movie on the service (if found).\n",
      "def query_nominees(query, nominees):\n",
      "    for nominee in nominees:\n",
      "        result = query.find_movie(nominee['title'])\n",
      "        if result is not None:\n",
      "            # Found a movie at the service.  Associate the movie URL with the\n",
      "            # nominee.  Note that this relies on the GIL to make dictionary\n",
      "            # access like this atomic so it is safe to run on multiple threads.\n",
      "            nominee[query.service_name()] = result\n",
      "        # Sleep for a short period so as to not hammer the service with requests.\n",
      "        time.sleep(1.0)\n",
      "\n",
      "# Load nominee data.\n",
      "nominees = []\n",
      "with open(NOMINEE_JSON, 'r') as nominee_file:\n",
      "    nominees = json.load(nominee_file)\n",
      "\n",
      "# Since querying each movie service is I/O constrained, use multiple\n",
      "# threads to help speed up the query process.  To keep things simple\n",
      "# and reduce the load on each service, one thread will be created per\n",
      "# movie service.  \n",
      "threads = [threading.Thread(target=query_nominees, args=(s, nominees)) for s in SERVICES]\n",
      "for t in threads:\n",
      "    t.start()\n",
      "for t in threads:\n",
      "    t.join()\n",
      "\n",
      "# Save the movie data (nominees now with movie service URLs) to a new file.\n",
      "with open(MOVIE_JSON, 'w') as movie_file:\n",
      "    json.dump(nominees, movie_file)\n",
      "\n",
      "print 'Done!'"
     ],
     "language": "python",
     "metadata": {},
     "outputs": [
      {
       "output_type": "stream",
       "stream": "stdout",
       "text": [
        "Done!\n"
       ]
      }
     ],
     "prompt_number": 13
    },
    {
     "cell_type": "heading",
     "level": 3,
     "metadata": {},
     "source": [
      "Display Results"
     ]
    },
    {
     "cell_type": "markdown",
     "metadata": {},
     "source": [
      "Scroll past the code below to see the result list."
     ]
    },
    {
     "cell_type": "code",
     "collapsed": false,
     "input": [
      "from itertools import *\n",
      "import json\n",
      "from IPython.core.display import HTML\n",
      "\n",
      "# Make a list of each service name.\n",
      "service_names = [s.service_name() for s in SERVICES]\n",
      "\n",
      "# Load the movie data.\n",
      "movies = []\n",
      "with open(MOVIE_JSON, 'r') as movie_file:\n",
      "    movies = json.load(movie_file)\n",
      "\n",
      "# Denormalize data to a list of (movie index, nomination) values that can easily be \n",
      "# aggregated by unique nomination value with groupby.\n",
      "nominations = izip(chain.from_iterable(imap(lambda x: repeat(x[0], len(x[1]['nominations'])),\n",
      "                                        enumerate(movies))),\n",
      "                   chain.from_iterable(imap(lambda x: x['nominations'], movies)))\n",
      "\n",
      "# Sort the elements by the value that will be aggregated (required  by groupby).\n",
      "nominations = sorted(nominations, key=lambda x: x[1])\n",
      "\n",
      "# Aggregate elements by unique nomination values and output an HTML list.\n",
      "output = '<h3 name=\"nominations\">2013 Oscar Nominations</h3>'\n",
      "for nomination, group in groupby(nominations, lambda x: x[1]):\n",
      "    # Output each nomination category.\n",
      "    output += '<li><h4>{0}</h4><ul>'.format(nomination)\n",
      "    for index in group:\n",
      "        # Output each movie in the category.\n",
      "        movie = movies[index[0]]\n",
      "        # Be careful to encode unicode values or some movie titles will break format.\n",
      "        output += '<li>{0}<ul>'.format(movie['title'].encode('utf-8'))\n",
      "        urls = [(movie[i], i) for i in service_names if i in movie]\n",
      "        for url, service in urls:\n",
      "            # Output each movie service URL found for each movie.\n",
      "            output += '<li><a href=\"{0}\" target=\"_blank\">{1}</a></li>'.format(url, service)\n",
      "        output += '</ul></li>'\n",
      "    output += '</ul></li>'\n",
      "output += '</ul>'\n",
      "HTML(output)"
     ],
     "language": "python",
     "metadata": {},
     "outputs": [
      {
       "html": [
        "<h3 name=\"nominations\">2013 Oscar Nominations</h3><li><h4>Actor in a Leading Role</h4><ul><li>American Hustle<ul></ul></li><li>Dallas Buyers Club<ul></ul></li><li>Nebraska<ul></ul></li><li>12 Years a Slave<ul></ul></li><li>The Wolf of Wall Street<ul></ul></li></ul></li><li><h4>Actor in a Supporting Role</h4><ul><li>American Hustle<ul></ul></li><li>Captain Phillips<ul></ul></li><li>Dallas Buyers Club<ul></ul></li><li>12 Years a Slave<ul></ul></li><li>The Wolf of Wall Street<ul></ul></li></ul></li><li><h4>Actress in a Leading Role</h4><ul><li>American Hustle<ul></ul></li><li>August: Osage County<ul></ul></li><li>Blue Jasmine<ul><li><a href=\"https://itunes.apple.com/us/movie/blue-jasmine/id764259828?uo=4\" target=\"_blank\">iTunes</a></li></ul></li><li>Gravity<ul></ul></li><li>Philomena<ul></ul></li></ul></li><li><h4>Actress in a Supporting Role</h4><ul><li>American Hustle<ul></ul></li><li>August: Osage County<ul></ul></li><li>Blue Jasmine<ul><li><a href=\"https://itunes.apple.com/us/movie/blue-jasmine/id764259828?uo=4\" target=\"_blank\">iTunes</a></li></ul></li><li>Nebraska<ul></ul></li><li>12 Years a Slave<ul></ul></li></ul></li><li><h4>Animated Feature Film</h4><ul><li>The Croods<ul><li><a href=\"http://www.amazon.com/The-Croods-Nicolas-Cage/dp/B00E0SX118%3FSubscriptionId%3D11S5XV495Q0322G67202%26tag%3Dbireofthdaawe-20%26linkCode%3Dxm2%26camp%3D2025%26creative%3D165953%26creativeASIN%3DB00E0SX118\" target=\"_blank\">Amazon Instant Video</a></li><li><a href=\"https://itunes.apple.com/us/movie/the-croods/id668231059?uo=4\" target=\"_blank\">iTunes</a></li></ul></li><li>Despicable Me 2<ul><li><a href=\"http://www.amazon.com/Despicable-Me-2-Steve-Carell/dp/B00HHJPUFM%3FSubscriptionId%3D11S5XV495Q0322G67202%26tag%3Dbireofthdaawe-20%26linkCode%3Dxm2%26camp%3D2025%26creative%3D165953%26creativeASIN%3DB00HHJPUFM\" target=\"_blank\">Amazon Instant Video</a></li><li><a href=\"https://itunes.apple.com/us/movie/despicable-me-2/id664370402?uo=4\" target=\"_blank\">iTunes</a></li></ul></li><li>Ernest & Celestine<ul></ul></li><li>Frozen<ul><li><a href=\"http://www.amazon.com/Frozen-Janice-Vidal/dp/B00AALED4S%3FSubscriptionId%3D11S5XV495Q0322G67202%26tag%3Dbireofthdaawe-20%26linkCode%3Dxm2%26camp%3D2025%26creative%3D165953%26creativeASIN%3DB00AALED4S\" target=\"_blank\">Amazon Instant Video</a></li></ul></li><li>The Wind Rises<ul></ul></li></ul></li><li><h4>Best Picture</h4><ul><li>American Hustle<ul></ul></li><li>Captain Phillips<ul></ul></li><li>Dallas Buyers Club<ul></ul></li><li>Gravity<ul></ul></li><li>Her<ul></ul></li><li>Nebraska<ul></ul></li><li>Philomena<ul></ul></li><li>12 Years a Slave<ul></ul></li><li>The Wolf of Wall Street<ul></ul></li></ul></li><li><h4>Cinematography</h4><ul><li>The Grandmaster<ul><li><a href=\"https://itunes.apple.com/us/movie/the-grandmaster/id690261116?uo=4\" target=\"_blank\">iTunes</a></li></ul></li><li>Gravity<ul></ul></li><li>Inside Llewyn Davis<ul></ul></li><li>Nebraska<ul></ul></li><li>Prisoners<ul><li><a href=\"http://www.amazon.com/Prisoners-Hugh-Jackman/dp/B00GT2GUZW%3FSubscriptionId%3D11S5XV495Q0322G67202%26tag%3Dbireofthdaawe-20%26linkCode%3Dxm2%26camp%3D2025%26creative%3D165953%26creativeASIN%3DB00GT2GUZW\" target=\"_blank\">Amazon Instant Video</a></li></ul></li></ul></li><li><h4>Costume Design</h4><ul><li>American Hustle<ul></ul></li><li>The Grandmaster<ul><li><a href=\"https://itunes.apple.com/us/movie/the-grandmaster/id690261116?uo=4\" target=\"_blank\">iTunes</a></li></ul></li><li>The Great Gatsby<ul><li><a href=\"http://www.amazon.com/The-Great-Gatsby-Leonardo-Dicaprio/dp/B00ESY7QXI%3FSubscriptionId%3D11S5XV495Q0322G67202%26tag%3Dbireofthdaawe-20%26linkCode%3Dxm2%26camp%3D2025%26creative%3D165953%26creativeASIN%3DB00ESY7QXI\" target=\"_blank\">Amazon Instant Video</a></li></ul></li><li>The Invisible Woman<ul></ul></li><li>12 Years a Slave<ul></ul></li></ul></li><li><h4>Directing</h4><ul><li>American Hustle<ul></ul></li><li>Gravity<ul></ul></li><li>Nebraska<ul></ul></li><li>12 Years a Slave<ul></ul></li><li>The Wolf of Wall Street<ul></ul></li></ul></li><li><h4>Documentary Feature</h4><ul><li>The Act of Killing<ul><li><a href=\"http://www.instantwatcher.com/titles/195132\" target=\"_blank\">Netflix (instantwatcher.com)</a></li></ul></li><li>Cutie and the Boxer<ul><li><a href=\"http://www.instantwatcher.com/titles/194804\" target=\"_blank\">Netflix (instantwatcher.com)</a></li><li><a href=\"http://www.amazon.com/Cutie-Boxer-Ushio-Shinohara/dp/B00FEPXGKW%3FSubscriptionId%3D11S5XV495Q0322G67202%26tag%3Dbireofthdaawe-20%26linkCode%3Dxm2%26camp%3D2025%26creative%3D165953%26creativeASIN%3DB00FEPXGKW\" target=\"_blank\">Amazon Instant Video</a></li><li><a href=\"https://itunes.apple.com/us/movie/cutie-and-the-boxer/id715448608?uo=4\" target=\"_blank\">iTunes</a></li></ul></li><li>Dirty Wars<ul><li><a href=\"http://www.instantwatcher.com/titles/194134\" target=\"_blank\">Netflix (instantwatcher.com)</a></li><li><a href=\"http://www.amazon.com/Dirty-Wars-Jeremy-Scahill/dp/B00FKNSPWW%3FSubscriptionId%3D11S5XV495Q0322G67202%26tag%3Dbireofthdaawe-20%26linkCode%3Dxm2%26camp%3D2025%26creative%3D165953%26creativeASIN%3DB00FKNSPWW\" target=\"_blank\">Amazon Instant Video</a></li><li><a href=\"https://itunes.apple.com/us/movie/dirty-wars/id659803046?uo=4\" target=\"_blank\">iTunes</a></li></ul></li><li>The Square<ul><li><a href=\"http://www.instantwatcher.com/titles/195155\" target=\"_blank\">Netflix (instantwatcher.com)</a></li></ul></li><li>20 Feet From Stardom<ul><li><a href=\"https://itunes.apple.com/us/movie/20-feet-from-stardom/id666499684?uo=4\" target=\"_blank\">iTunes</a></li></ul></li></ul></li><li><h4>Documentary Short</h4><ul><li>CaveDigger<ul></ul></li><li>Facing Fear<ul></ul></li><li>Karama Has No Walls<ul></ul></li><li>The Lady in Number 6: Music Saved My Life<ul></ul></li><li>Prison Terminal: The Last Days of Private Jack Hall<ul></ul></li></ul></li><li><h4>Film Editing</h4><ul><li>American Hustle<ul></ul></li><li>Captain Phillips<ul></ul></li><li>Dallas Buyers Club<ul></ul></li><li>Gravity<ul></ul></li><li>12 Years a Slave<ul></ul></li></ul></li><li><h4>Foreign Language Film</h4><ul><li>The Broken Circle Breakdown<ul></ul></li><li>The Great Beauty<ul></ul></li><li>The Hunt<ul><li><a href=\"http://www.instantwatcher.com/titles/195079\" target=\"_blank\">Netflix (instantwatcher.com)</a></li><li><a href=\"http://www.amazon.com/The-Hunt-Mads-Mikkelsen/dp/B00H8A5QOK%3FSubscriptionId%3D11S5XV495Q0322G67202%26tag%3Dbireofthdaawe-20%26linkCode%3Dxm2%26camp%3D2025%26creative%3D165953%26creativeASIN%3DB00H8A5QOK\" target=\"_blank\">Amazon Instant Video</a></li><li><a href=\"https://itunes.apple.com/us/movie/the-hunt/id773057364?uo=4\" target=\"_blank\">iTunes</a></li></ul></li><li>The Missing Picture<ul></ul></li><li>Omar<ul></ul></li></ul></li><li><h4>Makeup and Hairstyling</h4><ul><li>Dallas Buyers Club<ul></ul></li><li>Jackass Presents: Bad Grandpa<ul><li><a href=\"https://itunes.apple.com/us/movie/jackass-presents-bad-grandpa/id722331559?uo=4\" target=\"_blank\">iTunes</a></li></ul></li><li>The Lone Ranger<ul><li><a href=\"http://www.amazon.com/The-Lone-Ranger-Clayton-Moore/dp/B00498XSIA%3FSubscriptionId%3D11S5XV495Q0322G67202%26tag%3Dbireofthdaawe-20%26linkCode%3Dxm2%26camp%3D2025%26creative%3D165953%26creativeASIN%3DB00498XSIA\" target=\"_blank\">Amazon Instant Video</a></li><li><a href=\"https://itunes.apple.com/us/movie/the-lone-ranger/id665452552?uo=4\" target=\"_blank\">iTunes</a></li></ul></li></ul></li><li><h4>Music (Original Score)</h4><ul><li>The Book Thief<ul></ul></li><li>Gravity<ul></ul></li><li>Her<ul></ul></li><li>Philomena<ul></ul></li><li>Saving Mr. Banks<ul></ul></li></ul></li><li><h4>Music (Original Song)</h4><ul><li>Alone Yet Not Alone<ul></ul></li><li>Despicable Me 2<ul><li><a href=\"http://www.amazon.com/Despicable-Me-2-Steve-Carell/dp/B00HHJPUFM%3FSubscriptionId%3D11S5XV495Q0322G67202%26tag%3Dbireofthdaawe-20%26linkCode%3Dxm2%26camp%3D2025%26creative%3D165953%26creativeASIN%3DB00HHJPUFM\" target=\"_blank\">Amazon Instant Video</a></li><li><a href=\"https://itunes.apple.com/us/movie/despicable-me-2/id664370402?uo=4\" target=\"_blank\">iTunes</a></li></ul></li><li>Frozen<ul><li><a href=\"http://www.amazon.com/Frozen-Janice-Vidal/dp/B00AALED4S%3FSubscriptionId%3D11S5XV495Q0322G67202%26tag%3Dbireofthdaawe-20%26linkCode%3Dxm2%26camp%3D2025%26creative%3D165953%26creativeASIN%3DB00AALED4S\" target=\"_blank\">Amazon Instant Video</a></li></ul></li><li>Her<ul></ul></li><li>Mandela: Long Walk to Freedom<ul></ul></li></ul></li><li><h4>Production Design</h4><ul><li>American Hustle<ul></ul></li><li>Gravity<ul></ul></li><li>The Great Gatsby<ul><li><a href=\"http://www.amazon.com/The-Great-Gatsby-Leonardo-Dicaprio/dp/B00ESY7QXI%3FSubscriptionId%3D11S5XV495Q0322G67202%26tag%3Dbireofthdaawe-20%26linkCode%3Dxm2%26camp%3D2025%26creative%3D165953%26creativeASIN%3DB00ESY7QXI\" target=\"_blank\">Amazon Instant Video</a></li></ul></li><li>Her<ul></ul></li><li>12 Years a Slave<ul></ul></li></ul></li><li><h4>Short Film (Animated)</h4><ul><li>Feral<ul></ul></li><li>Get a Horse!<ul></ul></li><li>Mr. Hublot<ul></ul></li><li>Possessions<ul></ul></li><li>Room on the Broom<ul><li><a href=\"https://itunes.apple.com/us/movie/room-on-the-broom/id668389471?uo=4\" target=\"_blank\">iTunes</a></li></ul></li></ul></li><li><h4>Short Film (Live Action)</h4><ul><li>Aquel No Era Yo (That Wasn't Me)<ul></ul></li><li>Avant Que De Tout Perdre (Just before Losing Everything) <ul></ul></li><li>Helium<ul></ul></li><li>Pit\u00e4\u00e4k\u00f6 Mun Kaikki Hoitaa? (Do I Have to Take Care of Everything?)<ul></ul></li><li>The Voorman Problem<ul></ul></li></ul></li><li><h4>Sound Editing</h4><ul><li>All is Lost<ul></ul></li><li>Captain Phillips<ul></ul></li><li>Gravity<ul></ul></li><li>The Hobbit: The Desolation of Smaug<ul></ul></li><li>Lone Survivor<ul></ul></li></ul></li><li><h4>Sound Mixing</h4><ul><li>Captain Phillips<ul></ul></li><li>Gravity<ul></ul></li><li>The Hobbit: The Desolation of Smaug<ul></ul></li><li>Inside Llewyn Davis<ul></ul></li><li>Lone Survivor<ul></ul></li></ul></li><li><h4>Visual Effects</h4><ul><li>Gravity<ul></ul></li><li>The Hobbit: The Desolation of Smaug<ul></ul></li><li>Iron Man 3<ul><li><a href=\"https://itunes.apple.com/us/movie/iron-man-3/id661107687?uo=4\" target=\"_blank\">iTunes</a></li></ul></li><li>The Lone Ranger<ul><li><a href=\"http://www.amazon.com/The-Lone-Ranger-Clayton-Moore/dp/B00498XSIA%3FSubscriptionId%3D11S5XV495Q0322G67202%26tag%3Dbireofthdaawe-20%26linkCode%3Dxm2%26camp%3D2025%26creative%3D165953%26creativeASIN%3DB00498XSIA\" target=\"_blank\">Amazon Instant Video</a></li><li><a href=\"https://itunes.apple.com/us/movie/the-lone-ranger/id665452552?uo=4\" target=\"_blank\">iTunes</a></li></ul></li><li>Star Trek Into Darkness<ul><li><a href=\"http://www.amazon.com/Star-Trek-Into-Darkness-Chris/dp/B00F35BV64%3FSubscriptionId%3D11S5XV495Q0322G67202%26tag%3Dbireofthdaawe-20%26linkCode%3Dxm2%26camp%3D2025%26creative%3D165953%26creativeASIN%3DB00F35BV64\" target=\"_blank\">Amazon Instant Video</a></li><li><a href=\"https://itunes.apple.com/us/movie/star-trek-into-darkness/id643978126?uo=4\" target=\"_blank\">iTunes</a></li></ul></li></ul></li><li><h4>Writing (Adapted Screenplay)</h4><ul><li>Before Midnight<ul><li><a href=\"http://www.amazon.com/Before-Midnight-Ethan-Hawke/dp/B00G32OMF8%3FSubscriptionId%3D11S5XV495Q0322G67202%26tag%3Dbireofthdaawe-20%26linkCode%3Dxm2%26camp%3D2025%26creative%3D165953%26creativeASIN%3DB00G32OMF8\" target=\"_blank\">Amazon Instant Video</a></li><li><a href=\"https://itunes.apple.com/us/movie/before-midnight/id699047582?uo=4\" target=\"_blank\">iTunes</a></li></ul></li><li>Captain Phillips<ul></ul></li><li>Philomena<ul></ul></li><li>12 Years a Slave<ul></ul></li><li>The Wolf of Wall Street<ul></ul></li></ul></li><li><h4>Writing (Original Screenplay)</h4><ul><li>American Hustle<ul></ul></li><li>Blue Jasmine<ul><li><a href=\"https://itunes.apple.com/us/movie/blue-jasmine/id764259828?uo=4\" target=\"_blank\">iTunes</a></li></ul></li><li>Dallas Buyers Club<ul></ul></li><li>Her<ul></ul></li><li>Nebraska<ul></ul></li></ul></li></ul>"
       ],
       "metadata": {},
       "output_type": "pyout",
       "prompt_number": 15,
       "text": [
        "<IPython.core.display.HTML at 0x112cc6090>"
       ]
      }
     ],
     "prompt_number": 15
    },
    {
     "cell_type": "code",
     "collapsed": false,
     "input": [],
     "language": "python",
     "metadata": {},
     "outputs": []
    }
   ],
   "metadata": {}
  }
 ]
}